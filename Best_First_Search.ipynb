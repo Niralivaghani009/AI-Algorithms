{
  "nbformat": 4,
  "nbformat_minor": 0,
  "metadata": {
    "colab": {
      "provenance": []
    },
    "kernelspec": {
      "name": "python3",
      "display_name": "Python 3"
    },
    "language_info": {
      "name": "python"
    }
  },
  "cells": [
    {
      "cell_type": "code",
      "source": [
        "#by inserting in priority que\n",
        "from queue import PriorityQueue\n",
        "v = 9\n",
        "graph = [[] for i in range(v)]\n",
        "\n",
        "source = 0\n",
        "target = 5\n",
        "\n",
        "def BestFirstSearch(actual_Src, target, n):\n",
        "\tvisited = [False] * n\n",
        "\tpq = PriorityQueue()\n",
        "\tpq.put((0, actual_Src))\n",
        " \t# print(\"THe lowest cost path:\")\t\n",
        "\t# visited[actual_Src] = True\n",
        "\t\n",
        "\twhile pq.empty() == False:\n",
        "\t\tu = pq.get()[1]\n",
        "\t\tprint(u, end=\" \") #path which has low cost\n",
        "\t\tif u == target:\n",
        "\t\t\tbreak\n",
        "\n",
        "\t\tfor v, c in graph[u]:\n",
        "\t\t\tif visited[v] == False:\n",
        "\t\t\t\tvisited[v] = True\n",
        "\t\t\t\tpq.put((c, v))\n",
        "\tprint()\n",
        "\n",
        "def addedge(x, y, cost): #define function for adding edge\n",
        "\tgraph[x].append((y, cost))\n",
        "\tgraph[y].append((x, cost))\n",
        "\n",
        "addedge(0, 1, 4)\n",
        "addedge(0, 2, 8)\n",
        "addedge(0, 3, 7)\n",
        "addedge(1, 4, 6)\n",
        "addedge(1, 5, 8)\n",
        "addedge(2, 6, 12)\n",
        "addedge(3, 8, 7)\n",
        "\n",
        "BestFirstSearch(source, target, v)\n"
      ],
      "metadata": {
        "id": "nxUeEtosqyon",
        "colab": {
          "base_uri": "https://localhost:8080/"
        },
        "outputId": "cded3933-921e-4021-bdb1-d83abaa16d58"
      },
      "execution_count": null,
      "outputs": [
        {
          "output_type": "stream",
          "name": "stdout",
          "text": [
            "0 1 0 4 3 8 2 5 \n"
          ]
        }
      ]
    },
    {
      "cell_type": "code",
      "source": [
        "from queue import PriorityQueue\n",
        "v = 13\n",
        "graph = [[] for i in range(v)]\n",
        "\n",
        "def best_first_search(actual_Src, target, n):\n",
        "\tvisited = [False] * n\n",
        "\tpq = PriorityQueue()\n",
        "\tpq.put((0, actual_Src))\n",
        "\tvisited[actual_Src] = True\n",
        "\t\n",
        "\twhile pq.empty() == False:\n",
        "\t\tu = pq.get()[1]\n",
        "\t\tprint(u, end=\" \")\n",
        "\t\tif u == target:\n",
        "\t\t\tbreak\n",
        "\n",
        "\t\tfor v, c in graph[u]:\n",
        "\t\t\tif visited[v] == False:\n",
        "\t\t\t\tvisited[v] = True\n",
        "\t\t\t\tpq.put((c, v))\n",
        "\tprint()\n",
        "\n",
        "def addedge(x, y, cost):\n",
        "\tgraph[x].append((y, cost))\n",
        "\tgraph[y].append((x, cost))\n",
        "\n",
        "\n",
        "addedge(0, 1, 3)\n",
        "addedge(0, 2, 6)\n",
        "addedge(0, 3, 5)\n",
        "addedge(1, 4, 9)\n",
        "addedge(1, 5, 8)\n",
        "addedge(2, 6, 12)\n",
        "addedge(2, 7, 14)\n",
        "addedge(3, 8, 7)\n",
        "addedge(8, 9, 5)\n",
        "addedge(8, 10, 6)\n",
        "addedge(9, 11, 1)\n",
        "addedge(9, 12, 10)\n",
        "\n",
        "source = 0\n",
        "target = 6\n",
        "\n",
        "print(\"The lowest cost path:\")\n",
        "best_first_search(source, target, v)\n"
      ],
      "metadata": {
        "id": "M79_XSKoX81b",
        "colab": {
          "base_uri": "https://localhost:8080/"
        },
        "outputId": "049ee068-e291-4164-c1c4-e3eecc3035ba"
      },
      "execution_count": null,
      "outputs": [
        {
          "output_type": "stream",
          "name": "stdout",
          "text": [
            "The lowest cost path:\n",
            "0 1 3 2 8 9 11 10 5 4 12 6 \n"
          ]
        }
      ]
    },
    {
      "cell_type": "code",
      "source": [],
      "metadata": {
        "id": "P4n9Ix6Whz6I"
      },
      "execution_count": null,
      "outputs": []
    }
  ]
}