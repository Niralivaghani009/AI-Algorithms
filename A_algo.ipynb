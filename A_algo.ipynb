{
  "nbformat": 4,
  "nbformat_minor": 0,
  "metadata": {
    "colab": {
      "provenance": []
    },
    "kernelspec": {
      "name": "python3",
      "display_name": "Python 3"
    },
    "language_info": {
      "name": "python"
    }
  },
  "cells": [
    {
      "cell_type": "code",
      "source": [
        "def aStarAlgo(start_node, stop_node):\n",
        "         \n",
        "        open_set = set(start_node) \n",
        "        closed_set = set()\n",
        "        g = {} #Distance from starting node\n",
        "        parents = {}\n",
        "        g[start_node] = 0\n",
        "        parents[start_node] = start_node #if start_node has not parent node then itself called parent node\n",
        "         \n",
        "        while len(open_set) > 0:\n",
        "            n = None\n",
        "            #node with lowest f(node) is found\n",
        "            for v in open_set:\n",
        "                if n == None or g[v] + heuristic(v) < g[n] + heuristic(n):\n",
        "                    n = v\n",
        "        \n",
        "            if n == stop_node or Graph_nodes[n] == None:\n",
        "                pass\n",
        "            else:\n",
        "                for (m, weight) in get_neighbors(n):\n",
        "                    #nodes 'm' not in first and last set are added to first\n",
        "                    if m not in open_set and m not in closed_set:\n",
        "                        open_set.add(m)\n",
        "                        parents[m] = n\n",
        "                        g[m] = g[n] + weight\n",
        "                    #find g(m) fr m node from start through n node\n",
        "                    else:\n",
        "                        if g[m] > g[n] + weight:\n",
        "                            #update g(m)\n",
        "                            g[m] = g[n] + weight\n",
        "                            #change parent of m to n\n",
        "                            parents[m] = n\n",
        "                            if m in closed_set: #if m in closed set then remove and add to open\n",
        "                                closed_set.remove(m)\n",
        "                                open_set.add(m)\n",
        "            if n == None:\n",
        "                print('Path does not exist!')\n",
        "                return None\n",
        "            # if the current node is the stop_node then reconstruct the path from it to the start_node\n",
        "            if n == stop_node:\n",
        "                path = []\n",
        "                while parents[n] != n:\n",
        "                    path.append(n)\n",
        "                    n = parents[n]\n",
        "                path.append(start_node)\n",
        "                path.reverse()\n",
        "                print('Path found: {}'.format(path))\n",
        "                return path\n",
        "            open_set.remove(n)\n",
        "            closed_set.add(n)\n",
        "        print('Path does not exist!')\n",
        "        return None\n",
        "#fuction to return neighbor and its distance from the passed node\n",
        "def get_neighbors(v):\n",
        "    if v in Graph_nodes:\n",
        "        return Graph_nodes[v]\n",
        "    else:\n",
        "        return None\n",
        "        \n",
        "def heuristic(n):\n",
        "        H_dist = {\n",
        "            'A': 11,\n",
        "            'B': 6,\n",
        "            'C': 99,\n",
        "            'D': 1,\n",
        "            'E': 7,\n",
        "            'G': 0,\n",
        "        }\n",
        "        return H_dist[n]\n",
        "Graph_nodes = {\n",
        "    'A': [('B', 2), ('E', 3)],\n",
        "    'B': [('C', 1),('G', 9)],\n",
        "    'C': None,\n",
        "    'E': [('D', 6)],\n",
        "    'D': [('G', 1)],\n",
        "}\n",
        "\n",
        "aStarAlgo('A', 'G')"
      ],
      "metadata": {
        "colab": {
          "base_uri": "https://localhost:8080/"
        },
        "id": "xoSeA5bnXLh4",
        "outputId": "5824b043-5d66-483e-de2f-ecf988045b65"
      },
      "execution_count": null,
      "outputs": [
        {
          "output_type": "stream",
          "name": "stdout",
          "text": [
            "Path found: ['A', 'E', 'D', 'G']\n"
          ]
        },
        {
          "output_type": "execute_result",
          "data": {
            "text/plain": [
              "['A', 'E', 'D', 'G']"
            ]
          },
          "metadata": {},
          "execution_count": 6
        }
      ]
    },
    {
      "cell_type": "code",
      "source": [],
      "metadata": {
        "id": "Q9jFKkjvYQ4D"
      },
      "execution_count": null,
      "outputs": []
    }
  ]
}