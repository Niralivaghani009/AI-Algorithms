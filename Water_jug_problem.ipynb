{
  "nbformat": 4,
  "nbformat_minor": 0,
  "metadata": {
    "colab": {
      "provenance": []
    },
    "kernelspec": {
      "name": "python3",
      "display_name": "Python 3"
    },
    "language_info": {
      "name": "python"
    }
  },
  "cells": [
    {
      "cell_type": "code",
      "source": [
        "x=int(input(\"Enter j1:\"))\n",
        "y=int(input(\"Enter j2:\")) \n",
        "while True:\n",
        "  rn=int(input(\"Enter the Rule No: \"))\n",
        "  if rn==1:\n",
        "    if x<4:x=4\n",
        "  if rn==2:\n",
        "    if y<3:y=3\n",
        "  if rn==5:\n",
        "    if x>0:x=0\n",
        "  if rn==6:\n",
        "    if y>0:y=0\n",
        "  if rn==7:\n",
        "    if x + y>=0 and y > 0:x, y = 4, y - (4 - x)\n",
        "  if rn==8:\n",
        "    if x + y >= 0 and x > 0:x, y = x - (3 - y), 3\n",
        "  if rn==9:\n",
        "    if x + y <= 4 and y > 0:x,y=x+y,0\n",
        "  if rn==10:\n",
        "    if x + y <= 3 and x > 0:x, y = 0, x + y\n",
        "  print(\"j1=\",x) \n",
        "  print(\"j2=\" ,y) \n",
        "  if (x == 2):\n",
        "    print(\" The result is a Goal state:\",x,y)\n",
        "    # print(x,y)\n",
        "    break"
      ],
      "metadata": {
        "colab": {
          "base_uri": "https://localhost:8080/"
        },
        "id": "ZTJunc5c5LjP",
        "outputId": "a7ff37da-0674-45aa-9d9d-b3e220bcf90f"
      },
      "execution_count": null,
      "outputs": [
        {
          "output_type": "stream",
          "name": "stdout",
          "text": [
            "Enter j1:0\n",
            "Enter j2:0\n",
            "Enter the Rule No: 2\n",
            "j1= 0\n",
            "j2= 3\n",
            "Enter the Rule No: 9\n",
            "j1= 3\n",
            "j2= 0\n",
            "Enter the Rule No: 2\n",
            "j1= 3\n",
            "j2= 3\n",
            "Enter the Rule No: 7\n",
            "j1= 4\n",
            "j2= 2\n",
            "Enter the Rule No: 5\n",
            "j1= 0\n",
            "j2= 2\n",
            "Enter the Rule No: 9\n",
            "j1= 2\n",
            "j2= 0\n",
            " The result is a Goal state: 2 0\n"
          ]
        }
      ]
    },
    {
      "cell_type": "code",
      "source": [],
      "metadata": {
        "id": "yC7au8k253_F"
      },
      "execution_count": null,
      "outputs": []
    }
  ]
}